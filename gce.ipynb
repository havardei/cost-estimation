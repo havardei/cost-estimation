{
 "cells": [
  {
   "cell_type": "code",
   "execution_count": 1,
   "metadata": {
    "collapsed": false,
    "deletable": true,
    "editable": true,
    "jupyter": {
     "outputs_hidden": false
    }
   },
   "outputs": [],
   "source": [
    "import math\n",
    "import requests\n",
    "import numpy as np\n",
    "\n",
    "pricelist_url = \"https://cloudpricingcalculator.appspot.com/static/data/pricelist.json\""
   ]
  },
  {
   "cell_type": "code",
   "execution_count": 2,
   "metadata": {
    "collapsed": false,
    "deletable": true,
    "editable": true,
    "jupyter": {
     "outputs_hidden": false
    }
   },
   "outputs": [
    {
     "name": "stdout",
     "output_type": "stream",
     "text": [
      "Pricing as of 05-August-2020\n"
     ]
    }
   ],
   "source": [
    "r = requests.get(pricelist_url)\n",
    "pricelist = r.json()\n",
    "print(\"Pricing as of {}\".format(pricelist['updated']))"
   ]
  },
  {
   "cell_type": "code",
   "execution_count": 3,
   "metadata": {
    "deletable": true,
    "editable": true
   },
   "outputs": [],
   "source": [
    "class HostedCourse(dict):\n",
    "    def __init__(self, data, pricelist, **kw):\n",
    "        dict.__init__(self)\n",
    "        self.update(data)\n",
    "        self.pricelist = pricelist\n",
    "        self.update(kw['update'])\n",
    "\n",
    "    def monthly_cost_all_pd(self):\n",
    "        pd_total_size = self['num_users'] * self['pd_size_gb']\n",
    "        pd_rate_gb_month = self.pricelist['gcp_price_list'][self['pd_type']][self['node_region']]\n",
    "        return pd_rate_gb_month * pd_total_size\n",
    "\n",
    "    def monthly_cost_node(self):\n",
    "        node_rate = self.pricelist['gcp_price_list'][self['node_type']][self['node_region']]\n",
    "        return node_rate * self['sustained_use_factor'] * self['node_monthly_uptime_h']\n",
    "\n",
    "    def pods_per_node(self):\n",
    "        mem_per_node = int(self.pricelist['gcp_price_list'][self['node_type']]['memory'])\n",
    "        cores_per_node = int(self.pricelist['gcp_price_list'][self['node_type']]['cores'])\n",
    "        return math.floor((mem_per_node-1)/self['mem_per_pod_gb'])\n",
    "    \n",
    "    def derived_node_count(self):\n",
    "        return math.ceil(self['num_active_pods'] / self.pods_per_node())\n",
    "    \n",
    "    def monthly_cost_all_nodes(self):\n",
    "        return self.derived_node_count() * self.monthly_cost_node()\n",
    "    \n",
    "    def monthly_cost_total(self):\n",
    "        return self.monthly_cost_all_nodes() + self.monthly_cost_all_pd()\n",
    "    \n",
    "    def monthly_cost_per_student(self):\n",
    "        return self.monthly_cost_total() / self['num_users']\n",
    "    \n",
    "    def cores_per_user(self):\n",
    "        return self.derived_node_count()*int(self.pricelist['gcp_price_list'][self['node_type']]['cores']) / self['num_active_pods']\n",
    "    \n",
    "    def mem_per_user(self):\n",
    "        return self.derived_node_count()*int(self.pricelist['gcp_price_list'][self['node_type']]['memory']) / self['num_active_pods']\n",
    "\n",
    "    "
   ]
  },
  {
   "cell_type": "code",
   "execution_count": 9,
   "metadata": {
    "collapsed": false,
    "deletable": true,
    "editable": true,
    "jupyter": {
     "outputs_hidden": false
    }
   },
   "outputs": [],
   "source": [
    "# defaults \n",
    "dsep = {\n",
    "    ## GKE\n",
    "    'node_region': 'europe',\n",
    "\n",
    "    # persistent disk\n",
    "    'pd_type': 'CP-COMPUTEENGINE-STORAGE-PD-SSD',\n",
    "    'node_type': 'CP-COMPUTEENGINE-VMIMAGE-N1-STANDARD-4',\n",
    "    'num_users': 1,\n",
    "    'num_active_pods': 1,\n",
    "    'pd_size_gb': 1,\n",
    "    'node_monthly_uptime_h': 30*24,\n",
    "    'mem_per_pod_gb': 0.5,\n",
    "    'sustained_use_factor': 0.85, #What is correct value?\n",
    "}"
   ]
  },
  {
   "cell_type": "code",
   "execution_count": 5,
   "metadata": {
    "collapsed": false,
    "deletable": true,
    "editable": true,
    "jupyter": {
     "outputs_hidden": false
    }
   },
   "outputs": [],
   "source": [
    "def show_node_info(nt):\n",
    "    '''Display a node type's hourly rate and it's memory and core counts.'''\n",
    "    print(\"rate: {:.3f}, mem_gb: {}, cores: {}\".format(\n",
    "        pricelist['gcp_price_list'][nt]['europe'],\n",
    "        pricelist['gcp_price_list'][nt]['memory'],\n",
    "        pricelist['gcp_price_list'][nt]['cores']\n",
    "    ))"
   ]
  },
  {
   "cell_type": "code",
   "execution_count": 6,
   "metadata": {
    "collapsed": false,
    "deletable": true,
    "editable": true,
    "jupyter": {
     "outputs_hidden": false
    },
    "scrolled": true
   },
   "outputs": [
    {
     "name": "stdout",
     "output_type": "stream",
     "text": [
      "rate: 0.209, mem_gb: 15, cores: 4\n"
     ]
    }
   ],
   "source": [
    "show_node_info('CP-COMPUTEENGINE-VMIMAGE-N1-STANDARD-4')"
   ]
  },
  {
   "cell_type": "code",
   "execution_count": 18,
   "metadata": {
    "collapsed": false,
    "deletable": true,
    "editable": true,
    "jupyter": {
     "outputs_hidden": false
    }
   },
   "outputs": [],
   "source": [
    "courses = {\n",
    "    'course': HostedCourse(dsep, pricelist, update={\n",
    "        'num_users': 500, #Total number of users\n",
    "        'mem_per_pod_gb': 1, #memory pr user\n",
    "        'pd_size_gb': 0.5, #persistent storage pr user\n",
    "        'num_active_pods': 100, #number of simultanious users\n",
    "        \n",
    "    }),\n",
    "}"
   ]
  },
  {
   "cell_type": "code",
   "execution_count": 19,
   "metadata": {
    "collapsed": false,
    "deletable": true,
    "editable": true,
    "jupyter": {
     "outputs_hidden": false
    }
   },
   "outputs": [
    {
     "name": "stdout",
     "output_type": "stream",
     "text": [
      "course\n",
      "total pr month: $ 1066.74\n",
      "pr user: $  2.13\n",
      "number of nodes: 8\n",
      "cores pr user: 0.32\n",
      "memory pr user: 1.2GB\n"
     ]
    }
   ],
   "source": [
    "for k in sorted(courses.keys()):\n",
    "    course = courses[k]\n",
    "    print(\"{}\\ntotal pr month: ${:8.2f}\\npr user: ${:6.2f}\\nnumber of nodes: {}\\ncores pr user: {}\\nmemory pr user: {}GB\".format(\n",
    "        k,\n",
    "        course.monthly_cost_total(),\n",
    "        course.monthly_cost_per_student(),\n",
    "        course.derived_node_count(),\n",
    "        course.cores_per_user(),\n",
    "        course.mem_per_user()\n",
    "    ))"
   ]
  },
  {
   "cell_type": "code",
   "execution_count": null,
   "metadata": {},
   "outputs": [],
   "source": []
  }
 ],
 "metadata": {
  "kernelspec": {
   "display_name": "Python 3",
   "language": "python",
   "name": "python3"
  },
  "language_info": {
   "codemirror_mode": {
    "name": "ipython",
    "version": 3
   },
   "file_extension": ".py",
   "mimetype": "text/x-python",
   "name": "python",
   "nbconvert_exporter": "python",
   "pygments_lexer": "ipython3",
   "version": "3.7.6"
  }
 },
 "nbformat": 4,
 "nbformat_minor": 4
}
